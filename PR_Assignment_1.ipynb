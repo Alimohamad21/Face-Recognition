{
  "cells": [
    {
      "cell_type": "code",
      "execution_count": null,
      "metadata": {
        "id": "VF8GA9zfoLc0",
        "colab": {
          "base_uri": "https://localhost:8080/"
        },
        "outputId": "9649600d-fd88-4080-a492-e8e46665083d"
      },
      "outputs": [
        {
          "output_type": "stream",
          "name": "stdout",
          "text": [
            "Drive already mounted at /content/drive; to attempt to forcibly remount, call drive.mount(\"/content/drive\", force_remount=True).\n"
          ]
        }
      ],
      "source": [
        "from google.colab import drive\n",
        "import matplotlib.pyplot as plt\n",
        "import numpy as np\n",
        "from PIL import Image\n",
        "from sklearn.model_selection import train_test_split\n",
        "from numpy import linalg as LA\n",
        "from sklearn.neighbors import KNeighborsClassifier\n",
        "from sklearn.metrics import confusion_matrix, accuracy_score, classification_report\n",
        "\n",
        "\n",
        "drive.mount(\"/content/drive\")\n",
        "path = \"/content/drive/MyDrive/Dataset/\""
      ]
    },
    {
      "cell_type": "code",
      "execution_count": null,
      "metadata": {
        "id": "WT5WcesssCfY"
      },
      "outputs": [],
      "source": [
        "image = Image.open(f\"{path}/s1/1.pgm\")\n",
        "D = np.asarray(image).flatten()\n",
        "for i in range(1,41):\n",
        "  for j in range(1,11):\n",
        "    if i==1 and j==1:\n",
        "      continue\n",
        "    image = Image.open(f\"{path}/s{i}/{j}.pgm\")\n",
        "    matrix = np.asarray(image).flatten()\n",
        "    D= np.vstack([D,matrix])\n"
      ]
    },
    {
      "cell_type": "code",
      "execution_count": null,
      "metadata": {
        "id": "jfCD_cWctD5Z"
      },
      "outputs": [],
      "source": [
        "y=[]\n",
        "for i in range(1,41):\n",
        "  for j in range(1,11):\n",
        "    y.append(i)"
      ]
    },
    {
      "cell_type": "code",
      "execution_count": null,
      "metadata": {
        "id": "f__iGtXY3iVp"
      },
      "outputs": [],
      "source": [
        "bonus=False\n",
        "if bonus:\n",
        "      # D_train,D_test,y_train,y_test=train_test_split(D, y, test_size=0.3, train_size=0.7, random_state=17, stratify=y)\n",
        "      D_train=[]\n",
        "      D_test=[]\n",
        "      y_test=[]\n",
        "      y_train=[]\n",
        "      for i in range (0, 400, 10):\n",
        "        test_counter=0\n",
        "        train_counter=0\n",
        "        while train_counter < 7:\n",
        "          D_train.append(D[i+train_counter])\n",
        "          train_counter+=1\n",
        "        while test_counter< 3:\n",
        "          D_test.append(D[i+7+test_counter])\n",
        "          test_counter+=1\n",
        "      for i in range(1,41):\n",
        "        for j in range(7):\n",
        "          y_train.append(i)\n",
        "      for i in range(1,41):\n",
        "        for j in range(3):\n",
        "          y_test.append(i)\n",
        "      D_train=np.array(D_train)\n",
        "      D_test=np.array(D_test)\n",
        "      y_train=np.array(y_train)\n",
        "      y_test=np.array(y_test)\n",
        "else:\n",
        "      D_train=np.array(D[1])\n",
        "      D_test=np.array(D[0])\n",
        "      y_test=np.array([1])\n",
        "      y_train=np.array([1])\n",
        "      for i in range(2,400):\n",
        "        if i%2==0:\n",
        "            D_test= np.vstack([D_test,D[i]])\n",
        "            y_test=np.append(y_test,y[i])\n",
        "        else:\n",
        "            D_train= np.vstack([D_train,D[i]])\n",
        "            y_train=np.append(y_train,y[i])"
      ]
    },
    {
      "cell_type": "code",
      "execution_count": null,
      "metadata": {
        "id": "kZoZSWs97upx"
      },
      "outputs": [],
      "source": [
        "M=np.mean(D_train,axis=0)\n",
        "Z= D_train-M\n",
        "COV = np.cov(Z,bias=True,rowvar=False)\n",
        "eigenvalues_temp, U_temp= LA.eigh(COV)\n",
        "eigenvalues=np.diag(eigenvalues_temp)\n",
        "U=U_temp.T[::-1]\n",
        "\n",
        "\n"
      ]
    },
    {
      "cell_type": "code",
      "execution_count": null,
      "metadata": {
        "id": "JlhEaQcMAByK",
        "colab": {
          "base_uri": "https://localhost:8080/"
        },
        "outputId": "27b88f04-158d-482d-c22f-1a907fcc896c"
      },
      "outputs": [
        {
          "output_type": "stream",
          "name": "stdout",
          "text": [
            "[37, 53, 77, 116]\n"
          ]
        }
      ],
      "source": [
        "total=0\n",
        "trace=np.sum(eigenvalues_temp)\n",
        "alphas=[0.8,0.85,0.9,0.95]\n",
        "r=[0,0,0,0]\n",
        "index=0\n",
        "for i in range(eigenvalues_temp.size-1,-1,-1):\n",
        "  total+=eigenvalues_temp[i]\n",
        "  fr=total/trace\n",
        "  if fr>=alphas[index]:\n",
        "    r[index]=eigenvalues_temp.size-i\n",
        "    index+=1\n",
        "    if index==4:\n",
        "      break\n",
        "print(r)"
      ]
    },
    {
      "cell_type": "code",
      "execution_count": null,
      "metadata": {
        "id": "3Ueyn4MnE-S2"
      },
      "outputs": [],
      "source": [
        "def knn(X_train, X_test, y_train, y_test,k):\n",
        "    clf = KNeighborsClassifier(n_neighbors=k)\n",
        "    clf.fit(X_train, y_train)\n",
        "    y_predict = clf.predict(X_test)\n",
        "    accuracy=accuracy_score(y_test, y_predict) * 100\n",
        "    return accuracy"
      ]
    },
    {
      "cell_type": "code",
      "execution_count": null,
      "metadata": {
        "id": "qSLlusYREjZq",
        "colab": {
          "base_uri": "https://localhost:8080/",
          "height": 1000
        },
        "outputId": "5b994715-d42c-401a-e259-8a663d5fa196"
      },
      "outputs": [
        {
          "output_type": "stream",
          "name": "stdout",
          "text": [
            "Accuracy for r=37 k=1: 93.0 %\n",
            "Accuracy for r=37 k=3: 85.5 %\n",
            "Accuracy for r=37 k=5: 80.5 %\n",
            "Accuracy for r=37 k=7: 78.0 %\n",
            "-----------------------------------\n"
          ]
        },
        {
          "output_type": "display_data",
          "data": {
            "text/plain": [
              "<Figure size 432x288 with 1 Axes>"
            ],
            "image/png": "[encoded data removed]"
          },
          "metadata": {
            "needs_background": "light"
          }
        },
        {
          "output_type": "stream",
          "name": "stdout",
          "text": [
            "-----------------------------------\n",
            "Accuracy for r=53 k=1: 94.0 %\n",
            "Accuracy for r=53 k=3: 85.5 %\n",
            "Accuracy for r=53 k=5: 83.0 %\n",
            "Accuracy for r=53 k=7: 77.5 %\n",
            "-----------------------------------\n"
          ]
        },
        {
          "output_type": "display_data",
          "data": {
            "text/plain": [
              "<Figure size 432x288 with 1 Axes>"
            ],
            "image/png": "[encoded data removed]"
          },
          "metadata": {
            "needs_background": "light"
          }
        },
        {
          "output_type": "stream",
          "name": "stdout",
          "text": [
            "-----------------------------------\n",
            "Accuracy for r=77 k=1: 94.5 %\n",
            "Accuracy for r=77 k=3: 85.0 %\n",
            "Accuracy for r=77 k=5: 81.5 %\n",
            "Accuracy for r=77 k=7: 75.5 %\n",
            "-----------------------------------\n"
          ]
        },
        {
          "output_type": "display_data",
          "data": {
            "text/plain": [
              "<Figure size 432x288 with 1 Axes>"
            ],
            "image/png": "[encoded data removed]"
          },
          "metadata": {
            "needs_background": "light"
          }
        },
        {
          "output_type": "stream",
          "name": "stdout",
          "text": [
            "-----------------------------------\n",
            "Accuracy for r=116 k=1: 93.5 %\n",
            "Accuracy for r=116 k=3: 84.5 %\n",
            "Accuracy for r=116 k=5: 81.5 %\n",
            "Accuracy for r=116 k=7: 74.0 %\n",
            "-----------------------------------\n"
          ]
        },
        {
          "output_type": "display_data",
          "data": {
            "text/plain": [
              "<Figure size 432x288 with 1 Axes>"
            ],
            "image/png": "[encoded data removed]"
          },
          "metadata": {
            "needs_background": "light"
          }
        },
        {
          "output_type": "stream",
          "name": "stdout",
          "text": [
            "-----------------------------------\n"
          ]
        }
      ],
      "source": [
        "ks=[1,3,5,7]\n",
        "for i in range(len(r)):\n",
        "  P=U[:r[i]]\n",
        "  D_train_reduced=np.dot(D_train,P.T)\n",
        "  D_test_reduced=np.dot(D_test,P.T)\n",
        "  r_accuracies=[]\n",
        "  for k in ks:\n",
        "    accuracy=knn(D_train_reduced,D_test_reduced,y_train,y_test,k)\n",
        "    r_accuracies.append(accuracy)\n",
        "    print(f'Accuracy for r={r[i]} k={k}: {accuracy} %')\n",
        "  print('-----------------------------------')\n",
        "  plt.title(f'r={r[i]}')\n",
        "  plt.xlabel('K')\n",
        "  plt.ylabel('Accuracy %')\n",
        "  plt.plot(ks,r_accuracies)\n",
        "  plt.show()\n",
        "  print('-----------------------------------')\n",
        "    "
      ]
    },
    {
      "cell_type": "code",
      "source": [
        "nk=5\n",
        "if bonus:\n",
        "  Dk=[]\n",
        "  for i in range(0,280,7):\n",
        "    Dk.append(D_train[i:i+7])\n",
        "else:\n",
        "  Dk=[]\n",
        "  for i in range(0,200,5):\n",
        "    Dk.append(D_train[i:i+5])\n",
        "Mk=[]\n",
        "for i in range(40):\n",
        "  Mk.append(np.mean(Dk[i],axis=0))\n",
        "Sb=np.zeros((10304,10304))\n",
        "for i in range(40):\n",
        "    Sk= Mk[i]-M\n",
        "    Sb+=(nk*(np.dot(Sk,Sk.T)))"
      ],
      "metadata": {
        "id": "1S_1UyvoBuae"
      },
      "execution_count": null,
      "outputs": []
    },
    {
      "cell_type": "code",
      "source": [
        "\n",
        "S=np.zeros((10304,10304))\n",
        "for i in range(40):\n",
        "  Zk=Dk[i]-Mk[i]\n",
        "  Sk=np.dot(Zk.T,Zk)\n",
        "  S+=Sk"
      ],
      "metadata": {
        "id": "37uPFi_Ow2p7"
      },
      "execution_count": null,
      "outputs": []
    },
    {
      "cell_type": "code",
      "source": [
        "eigens,w=LA.eigh(np.dot(LA.inv(S),Sb))"
      ],
      "metadata": {
        "id": "MrkF1ZbpCn46"
      },
      "execution_count": null,
      "outputs": []
    },
    {
      "cell_type": "code",
      "source": [
        "W_temp=w.T[::-1]\n",
        "W=W_temp[:40]\n",
        "D_train_LDA_reduced=np.dot(D_train,W.T)\n",
        "D_test_LDA_reduced=np.dot(D_test,W.T)\n",
        "LDA_accuracies=[]\n",
        "for k in ks:\n",
        "    accuracy=knn(D_train_LDA_reduced,D_test_LDA_reduced,y_train,y_test,k)\n",
        "    LDA_accuracies.append(accuracy)\n",
        "    print(f'Accuracy for k={k}: {accuracy} %')\n",
        "plt.title(f'LDA')\n",
        "plt.xlabel('K')\n",
        "plt.ylabel('Accuracy %')\n",
        "plt.plot(ks,LDA_accuracies)\n",
        "plt.show()"
      ],
      "metadata": {
        "id": "9VI44z528vx0",
        "colab": {
          "base_uri": "https://localhost:8080/"
        },
        "outputId": "7d43c980-eaac-4b5d-a15a-397811909924"
      },
      "execution_count": null,
      "outputs": [
        {
          "output_type": "stream",
          "name": "stdout",
          "text": [
            "Accuracy for k=1: 94.5 %\n",
            "Accuracy for k=3: 84.0 %\n",
            "Accuracy for k=5: 76.0 %\n",
            "Accuracy for k=7: 71.0 %\n"
          ]
        },
        {
          "output_type": "display_data",
          "data": {
            "text/plain": [
              "<Figure size 432x288 with 1 Axes>"
            ],
            "image/png": "[encoded data removed]"
          },
          "metadata": {
            "needs_background": "light"
          }
        }
      ]
    }
  ],
  "metadata": {
    "colab": {
      "name": "PR_Assignment#1",
      "provenance": [],
      "collapsed_sections": [],
      "toc_visible": true
    },
    "kernelspec": {
      "display_name": "Python 3",
      "name": "python3"
    },
    "language_info": {
      "name": "python"
    }
  },
  "nbformat": 4,
  "nbformat_minor": 0
}